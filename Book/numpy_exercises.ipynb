{
 "cells": [
  {
   "cell_type": "code",
   "execution_count": 1,
   "id": "4e2efe15-8e1a-429f-8eb2-e4b8014d82de",
   "metadata": {},
   "outputs": [],
   "source": [
    "import numpy as np"
   ]
  },
  {
   "cell_type": "code",
   "execution_count": 2,
   "id": "d1d024b4-51a9-41af-8e7f-41850b356357",
   "metadata": {},
   "outputs": [
    {
     "name": "stdout",
     "output_type": "stream",
     "text": [
      "[[ 2  6 -4]\n",
      " [ 0  8 14]\n",
      " [-2  4 12]]\n"
     ]
    }
   ],
   "source": [
    "A=np.array([ [1,3,-2],[0,4,7],[-1,2,6] ])\n",
    "B=np.array([ [0,1],[1,3],[2,1] ])\n",
    "#(1)Find the component-wise sum of the matrix A with itself.\n",
    "print(np.add(A,A))"
   ]
  },
  {
   "cell_type": "code",
   "execution_count": 3,
   "id": "ba2ef0bd-9818-403a-a675-1a56cd9589c2",
   "metadata": {},
   "outputs": [
    {
     "name": "stdout",
     "output_type": "stream",
     "text": [
      "[[ 1  0 -1]\n",
      " [ 3  4  2]\n",
      " [-2  7  6]]\n",
      "[[0 1 2]\n",
      " [1 3 1]]\n"
     ]
    }
   ],
   "source": [
    "#(2)Find the transpose of each of matrix A and matrix B.\n",
    "print(A.T)\n",
    "print(B.T)"
   ]
  },
  {
   "cell_type": "code",
   "execution_count": 4,
   "id": "eec0fbff-18cb-4782-9de0-7f3fc7c72d8a",
   "metadata": {},
   "outputs": [
    {
     "name": "stdout",
     "output_type": "stream",
     "text": [
      "[[-0.52631579  1.15789474 -1.52631579]\n",
      " [ 0.36842105 -0.21052632  0.36842105]\n",
      " [-0.21052632  0.26315789 -0.21052632]]\n"
     ]
    }
   ],
   "source": [
    "#(3)Find the inverse of matrix A.\n",
    "print(np.asmatrix(A).I)\n"
   ]
  },
  {
   "cell_type": "code",
   "execution_count": 5,
   "id": "8fa342bf-908b-45f1-b0a7-d68f280e443a",
   "metadata": {},
   "outputs": [
    {
     "name": "stdout",
     "output_type": "stream",
     "text": [
      "[[-1  8]\n",
      " [18 19]\n",
      " [14 11]]\n",
      "[[-1  8]\n",
      " [18 19]\n",
      " [14 11]]\n"
     ]
    }
   ],
   "source": [
    "#(4)Find the matrix product AB.\n",
    "print(np.asmatrix(A)*np.asmatrix(B))\n",
    "print(np.dot(A,B))"
   ]
  },
  {
   "cell_type": "code",
   "execution_count": 6,
   "id": "2d19cfd2-3ed6-453e-a613-587170c6220a",
   "metadata": {},
   "outputs": [
    {
     "name": "stdout",
     "output_type": "stream",
     "text": [
      "[[0 1 1]\n",
      " [3 2 1]]\n"
     ]
    }
   ],
   "source": [
    "#(5)Reshape the matrix B to be of size 2 x 3 (as opposed to its current size of 3 x 2).  Store the result as matrix C.\n",
    "C=np.reshape(B,(2,3))\n",
    "print(C)"
   ]
  },
  {
   "cell_type": "code",
   "execution_count": 7,
   "id": "838fa750-5eee-439c-b6e3-4f3c29ffb7be",
   "metadata": {},
   "outputs": [
    {
     "name": "stdout",
     "output_type": "stream",
     "text": [
      "[[-1  6 13]\n",
      " [ 2 19 14]]\n"
     ]
    }
   ],
   "source": [
    "#(6)Find the matrix product CA. \n",
    "print(np.asmatrix(C)*np.asmatrix(A))"
   ]
  },
  {
   "cell_type": "code",
   "execution_count": 8,
   "id": "88fe032d-9c29-463b-a270-e74388cb6856",
   "metadata": {},
   "outputs": [
    {
     "name": "stdout",
     "output_type": "stream",
     "text": [
      "[[-1 -1 -2]\n",
      " [ 0  4 -1]\n",
      " [-1  2  6]]\n"
     ]
    }
   ],
   "source": [
    "#(7)Replace all the odd entries of matrix A with the value -1.  Store the result as matrix D.\n",
    "D=np.where(A % 2 !=0,-1,A)\n",
    "#print(A)\n",
    "print(D)"
   ]
  },
  {
   "cell_type": "code",
   "execution_count": 9,
   "id": "164fc14b-42ec-4f0d-a31d-4336d949afbc",
   "metadata": {},
   "outputs": [
    {
     "name": "stdout",
     "output_type": "stream",
     "text": [
      "[ 2 11  7]\n"
     ]
    }
   ],
   "source": [
    "#(8)Create a new matrix whose entries are the sums of the rows of matrix A.\n",
    "E=np.sum(A,axis=1)\n",
    "print(E)"
   ]
  },
  {
   "cell_type": "code",
   "execution_count": 10,
   "id": "2c4120d4-a2cd-48c5-b961-ecd89accba73",
   "metadata": {},
   "outputs": [
    {
     "name": "stdout",
     "output_type": "stream",
     "text": [
      "[0.         3.         3.66666667]\n"
     ]
    }
   ],
   "source": [
    "#(9)Create a new matrix whose entries are the means of the columns of matrix A.\n",
    "F=np.mean(A,axis=0)\n",
    "print(F)"
   ]
  },
  {
   "cell_type": "code",
   "execution_count": 11,
   "id": "3b71a169-4762-46c6-867c-0d24ddf3b091",
   "metadata": {},
   "outputs": [
    {
     "name": "stdout",
     "output_type": "stream",
     "text": [
      "[[0.         1.        ]\n",
      " [1.         1.73205081]\n",
      " [1.41421356 1.        ]]\n",
      "[[0 1]\n",
      " [1 3]\n",
      " [2 1]]\n"
     ]
    }
   ],
   "source": [
    "#(10)Find the component-wise square root of matrix B.\n",
    "print(np.sqrt(B))\n",
    "print(B)"
   ]
  },
  {
   "cell_type": "code",
   "execution_count": null,
   "id": "f0a2e949-65d3-46bb-a713-18df1f00c981",
   "metadata": {},
   "outputs": [],
   "source": []
  }
 ],
 "metadata": {
  "interpreter": {
   "hash": "41bd3fd7d9e964b2fad6aed94245c691d4191ccf8c3ec0630e831498010d969d"
  },
  "kernelspec": {
   "display_name": "Python 3.8.8 64-bit ('base': conda)",
   "name": "python3"
  },
  "language_info": {
   "codemirror_mode": {
    "name": "ipython",
    "version": 3
   },
   "file_extension": ".py",
   "mimetype": "text/x-python",
   "name": "python",
   "nbconvert_exporter": "python",
   "pygments_lexer": "ipython3",
   "version": "3.8.8"
  }
 },
 "nbformat": 4,
 "nbformat_minor": 5
}
