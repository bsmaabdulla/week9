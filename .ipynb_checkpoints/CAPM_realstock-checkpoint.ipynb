{
 "cells": [
  {
   "cell_type": "markdown",
   "metadata": {},
   "source": [
    "Week 4, Assignment C1:\n",
    "\n",
    "CAPM and Modern Portfolio Theory in Python\n",
    "\n",
    "In this notebook, we will study Modern Portfolio Theory in Python.\n",
    "Please complete the lines bellow where you see \"# TODO\"."
   ]
  },
  {
   "cell_type": "code",
   "execution_count": 1,
   "metadata": {},
   "outputs": [
    {
     "ename": "ModuleNotFoundError",
     "evalue": "No module named 'pandas_datareader'",
     "output_type": "error",
     "traceback": [
      "\u001b[1;31m---------------------------------------------------------------------------\u001b[0m",
      "\u001b[1;31mModuleNotFoundError\u001b[0m                       Traceback (most recent call last)",
      "\u001b[1;32m<ipython-input-1-a9531ef40948>\u001b[0m in \u001b[0;36m<module>\u001b[1;34m\u001b[0m\n\u001b[0;32m      5\u001b[0m \u001b[1;32mimport\u001b[0m \u001b[0mpandas\u001b[0m \u001b[1;32mas\u001b[0m \u001b[0mpd\u001b[0m\u001b[1;33m\u001b[0m\u001b[1;33m\u001b[0m\u001b[0m\n\u001b[0;32m      6\u001b[0m \u001b[1;32mimport\u001b[0m \u001b[0mmatplotlib\u001b[0m\u001b[1;33m.\u001b[0m\u001b[0mpyplot\u001b[0m \u001b[1;32mas\u001b[0m \u001b[0mplt\u001b[0m\u001b[1;33m\u001b[0m\u001b[1;33m\u001b[0m\u001b[0m\n\u001b[1;32m----> 7\u001b[1;33m \u001b[1;32mimport\u001b[0m \u001b[0mpandas_datareader\u001b[0m \u001b[1;32mas\u001b[0m \u001b[0mweb\u001b[0m\u001b[1;33m\u001b[0m\u001b[1;33m\u001b[0m\u001b[0m\n\u001b[0m",
      "\u001b[1;31mModuleNotFoundError\u001b[0m: No module named 'pandas_datareader'"
     ]
    }
   ],
   "source": [
    "#Objective 1.\n",
    "#Use this cell to import Numpy (as np) and Pyplot (from Matplotlib as plt) packages.\n",
    "\n",
    "import numpy as np\n",
    "import pandas as pd\n",
    "import matplotlib.pyplot as plt\n",
    "import pandas_datareader as web"
   ]
  },
  {
   "cell_type": "code",
   "execution_count": 18,
   "metadata": {},
   "outputs": [],
   "source": [
    "\n",
    "#matrix_of_return_values = np.random.randn(no_of_asset_classes, no_of_observations)\n",
    "df_Aramco = pd.read_csv('Aramco.csv',parse_dates=True)\n",
    "df_Bahri = pd.read_csv('Bahri.csv',parse_dates=True)\n",
    "df_PetroRabigh = pd.read_csv('PetroRabigh.csv',parse_dates=True)\n",
    "df_Sarco = pd.read_csv('Sarco.csv',parse_dates=True)\n",
    "\n",
    "#stocks = [\"2222.SR\", \"2380.SR\", \"2030.SR\", \"40.30.SR\"]\n",
    "#multpl_stocks = web.get_data_yahoo(stocks,start = \"2020-11-08\",end = \"2021-11-07\")\n",
    "#df = pd.merge(df_Aramco, df_Bahri,df_PetroRabigh,df_Sarco,start = \"2020-11-08\",end = \"2021-11-07\")\n",
    "\n",
    "\n",
    "no_of_portfolios = 2000"
   ]
  },
  {
   "cell_type": "code",
   "execution_count": 19,
   "metadata": {},
   "outputs": [],
   "source": [
    "#df_Aramco['return_A']=(df_Aramco['Adj Close']-df_Aramco['Adj Close'].shift(1))/(df_Aramco['Adj Close'].shift(1))\n",
    "df_Aramco['return_A']=df_Aramco['Adj Close'].pct_change()\n",
    "df_Bahri['return_B']=df_Bahri['Adj Close'].pct_change()\n",
    "df_PetroRabigh['return_P']=df_PetroRabigh['Adj Close'].pct_change()\n",
    "df_Sarco['return_S']=df_Sarco['Adj Close'].pct_change()"
   ]
  },
  {
   "cell_type": "code",
   "execution_count": 20,
   "metadata": {},
   "outputs": [
    {
     "data": {
      "text/html": [
       "<div>\n",
       "<style scoped>\n",
       "    .dataframe tbody tr th:only-of-type {\n",
       "        vertical-align: middle;\n",
       "    }\n",
       "\n",
       "    .dataframe tbody tr th {\n",
       "        vertical-align: top;\n",
       "    }\n",
       "\n",
       "    .dataframe thead th {\n",
       "        text-align: right;\n",
       "    }\n",
       "</style>\n",
       "<table border=\"1\" class=\"dataframe\">\n",
       "  <thead>\n",
       "    <tr style=\"text-align: right;\">\n",
       "      <th></th>\n",
       "      <th>return_A</th>\n",
       "      <th>return_B</th>\n",
       "      <th>return_P</th>\n",
       "      <th>return_S</th>\n",
       "    </tr>\n",
       "    <tr>\n",
       "      <th>Date</th>\n",
       "      <th></th>\n",
       "      <th></th>\n",
       "      <th></th>\n",
       "      <th></th>\n",
       "    </tr>\n",
       "  </thead>\n",
       "  <tbody>\n",
       "    <tr>\n",
       "      <th>2020-11-09</th>\n",
       "      <td>0.018651</td>\n",
       "      <td>0.008717</td>\n",
       "      <td>0.038760</td>\n",
       "      <td>0.099648</td>\n",
       "    </tr>\n",
       "    <tr>\n",
       "      <th>2020-11-10</th>\n",
       "      <td>0.005741</td>\n",
       "      <td>0.002469</td>\n",
       "      <td>0.016418</td>\n",
       "      <td>-0.019190</td>\n",
       "    </tr>\n",
       "    <tr>\n",
       "      <th>2020-11-11</th>\n",
       "      <td>0.004243</td>\n",
       "      <td>0.001232</td>\n",
       "      <td>0.014684</td>\n",
       "      <td>0.020652</td>\n",
       "    </tr>\n",
       "    <tr>\n",
       "      <th>2020-11-12</th>\n",
       "      <td>-0.007042</td>\n",
       "      <td>-0.008610</td>\n",
       "      <td>-0.002894</td>\n",
       "      <td>0.018104</td>\n",
       "    </tr>\n",
       "    <tr>\n",
       "      <th>2020-11-15</th>\n",
       "      <td>0.001418</td>\n",
       "      <td>0.012407</td>\n",
       "      <td>0.002903</td>\n",
       "      <td>0.004184</td>\n",
       "    </tr>\n",
       "    <tr>\n",
       "      <th>...</th>\n",
       "      <td>...</td>\n",
       "      <td>...</td>\n",
       "      <td>...</td>\n",
       "      <td>...</td>\n",
       "    </tr>\n",
       "    <tr>\n",
       "      <th>2021-11-01</th>\n",
       "      <td>-0.003958</td>\n",
       "      <td>-0.013624</td>\n",
       "      <td>0.005607</td>\n",
       "      <td>-0.002755</td>\n",
       "    </tr>\n",
       "    <tr>\n",
       "      <th>2021-11-02</th>\n",
       "      <td>0.003973</td>\n",
       "      <td>-0.005525</td>\n",
       "      <td>-0.003718</td>\n",
       "      <td>-0.009669</td>\n",
       "    </tr>\n",
       "    <tr>\n",
       "      <th>2021-11-03</th>\n",
       "      <td>-0.007916</td>\n",
       "      <td>-0.011111</td>\n",
       "      <td>-0.022388</td>\n",
       "      <td>0.011158</td>\n",
       "    </tr>\n",
       "    <tr>\n",
       "      <th>2021-11-04</th>\n",
       "      <td>0.006649</td>\n",
       "      <td>0.004214</td>\n",
       "      <td>0.013359</td>\n",
       "      <td>-0.001379</td>\n",
       "    </tr>\n",
       "    <tr>\n",
       "      <th>2021-11-07</th>\n",
       "      <td>0.002715</td>\n",
       "      <td>0.005594</td>\n",
       "      <td>0.033898</td>\n",
       "      <td>-0.004144</td>\n",
       "    </tr>\n",
       "  </tbody>\n",
       "</table>\n",
       "<p>250 rows × 4 columns</p>\n",
       "</div>"
      ],
      "text/plain": [
       "            return_A  return_B  return_P  return_S\n",
       "Date                                              \n",
       "2020-11-09  0.018651  0.008717  0.038760  0.099648\n",
       "2020-11-10  0.005741  0.002469  0.016418 -0.019190\n",
       "2020-11-11  0.004243  0.001232  0.014684  0.020652\n",
       "2020-11-12 -0.007042 -0.008610 -0.002894  0.018104\n",
       "2020-11-15  0.001418  0.012407  0.002903  0.004184\n",
       "...              ...       ...       ...       ...\n",
       "2021-11-01 -0.003958 -0.013624  0.005607 -0.002755\n",
       "2021-11-02  0.003973 -0.005525 -0.003718 -0.009669\n",
       "2021-11-03 -0.007916 -0.011111 -0.022388  0.011158\n",
       "2021-11-04  0.006649  0.004214  0.013359 -0.001379\n",
       "2021-11-07  0.002715  0.005594  0.033898 -0.004144\n",
       "\n",
       "[250 rows x 4 columns]"
      ]
     },
     "execution_count": 20,
     "metadata": {},
     "output_type": "execute_result"
    }
   ],
   "source": [
    "df = pd.merge(df_Aramco, df_Bahri,on='Date',how='inner')\n",
    "df=df[['Date','return_A','return_B']]\n",
    "df = pd.merge(df, df_PetroRabigh,on='Date',how='inner')\n",
    "df=df[['Date','return_A','return_B','return_P']]\n",
    "df = pd.merge(df, df_Sarco,on='Date',how='inner')\n",
    "df=df[['Date','return_A','return_B','return_P','return_S']]\n",
    "df=df.dropna()\n",
    "df.set_index('Date',inplace=True)\n",
    "df"
   ]
  },
  {
   "cell_type": "code",
   "execution_count": 21,
   "metadata": {},
   "outputs": [],
   "source": [
    "matrix_of_return_values = df.to_numpy()\n",
    "matrix_of_return_values = np.asmatrix(matrix_of_return_values)\n",
    "matrix_of_return_values=matrix_of_return_values.T\n",
    "#print(matrix_of_return_values)"
   ]
  },
  {
   "cell_type": "code",
   "execution_count": 22,
   "metadata": {},
   "outputs": [],
   "source": [
    "#Objective 4.\n",
    "collection_of_random_asset_weights = []\n",
    "portfolio_means = []\n",
    "portfolio_standard_deviations = []\n",
    "portfolio_sharpe_ratios = []"
   ]
  },
  {
   "cell_type": "code",
   "execution_count": 23,
   "metadata": {},
   "outputs": [],
   "source": [
    "#Objective 5.\n",
    "no_of_asset_classes=4\n",
    "def get_random_asset_weights(no_of_asset_classes):\n",
    "    random_asset_weights = np.random.rand(no_of_asset_classes)\n",
    "    random_asset_weights /=sum(random_asset_weights)\n",
    "    random_asset_weights=np.asmatrix(random_asset_weights)\n",
    "    return random_asset_weights \n",
    "#get_random_asset_weights(no_of_asset_classes)"
   ]
  },
  {
   "cell_type": "code",
   "execution_count": 24,
   "metadata": {},
   "outputs": [],
   "source": [
    "#Objective 6.\n",
    "\n",
    "def get_portfolio_statistics(asset_weights, matrix_of_return_values):\n",
    "    asset_means = np.asmatrix(np.mean(matrix_of_return_values, axis = 1))\n",
    "    asset_covariances =np.asmatrix(np.cov(matrix_of_return_values))\n",
    "    portfolio_mean =asset_weights*asset_means #t\n",
    "    portfolio_mean=portfolio_mean.item()\n",
    "    portfolio_standard_deviation = np.sqrt(asset_weights*asset_covariances*asset_weights.T) #t\n",
    "    portfolio_standard_deviation=portfolio_standard_deviation.item()\n",
    "    portfolio_sharpe_ratio =portfolio_mean / portfolio_standard_deviation\n",
    "    return portfolio_mean, portfolio_standard_deviation, portfolio_sharpe_ratio\n",
    "#get_portfolio_statistics(get_random_asset_weights(no_of_asset_classes),matrix_of_return_values)"
   ]
  },
  {
   "cell_type": "code",
   "execution_count": 25,
   "metadata": {},
   "outputs": [],
   "source": [
    "#Objective 7.\n",
    "no_of_portfolios=2000\n",
    "while len(collection_of_random_asset_weights) < no_of_portfolios:\n",
    "    random_asset_weights = get_random_asset_weights(no_of_asset_classes)\n",
    "    collection_of_random_asset_weights.append(random_asset_weights) \n",
    "    portfolio_means.append(get_portfolio_statistics(random_asset_weights,matrix_of_return_values)[0])\n",
    "    portfolio_standard_deviations.append( get_portfolio_statistics(random_asset_weights,matrix_of_return_values)[1])\n",
    "    portfolio_sharpe_ratios.append( get_portfolio_statistics(random_asset_weights,matrix_of_return_values)[2])"
   ]
  },
  {
   "cell_type": "code",
   "execution_count": 26,
   "metadata": {},
   "outputs": [
    {
     "data": {
      "image/png": "[encoded data removed]",
      "text/plain": [
       "<Figure size 432x288 with 1 Axes>"
      ]
     },
     "metadata": {
      "needs_background": "light"
     },
     "output_type": "display_data"
    }
   ],
   "source": [
    "#Objective 8.\n",
    "plt.plot(portfolio_standard_deviations,portfolio_means, 'o', markersize = 3, color = 'lightskyblue') \n",
    "plt.show()"
   ]
  },
  {
   "cell_type": "code",
   "execution_count": 27,
   "metadata": {},
   "outputs": [],
   "source": [
    "#Objective 9.\n",
    "#Find the list index of the portfolio of highest Sharpe ratio.\n",
    "\n",
    "index = portfolio_sharpe_ratios.index(max(portfolio_sharpe_ratios))"
   ]
  },
  {
   "cell_type": "code",
   "execution_count": 28,
   "metadata": {},
   "outputs": [
    {
     "name": "stdout",
     "output_type": "stream",
     "text": [
      "[[0.57902168 0.02433916 0.30631132 0.09032784]]\n",
      "0.17507758143274413\n"
     ]
    }
   ],
   "source": [
    "#Objective 10.\n",
    "#Print the asset weights and Sharpe ratio of the portfolio of highest Sharpe ratio, using index above.\n",
    "\n",
    "print(collection_of_random_asset_weights[index])\n",
    "print(portfolio_sharpe_ratios[index])"
   ]
  },
  {
   "cell_type": "code",
   "execution_count": 29,
   "metadata": {},
   "outputs": [
    {
     "data": {
      "image/png": "[encoded data removed]",
      "text/plain": [
       "<Figure size 432x288 with 1 Axes>"
      ]
     },
     "metadata": {
      "needs_background": "light"
     },
     "output_type": "display_data"
    }
   ],
   "source": [
    "#Objective 11.\n",
    "#Add the Capital Market Line to your scatterplot from Objective 8.\n",
    "\n",
    "x = np.linspace(0, max(portfolio_standard_deviations), 10000)\n",
    "y = portfolio_sharpe_ratios[index] * x\n",
    "plt.plot( portfolio_standard_deviations,portfolio_means, 'o', markersize = 3, color = 'lightskyblue')\n",
    "plt.plot(x, y, '-', linewidth = 2, color = 'green')\n",
    "plt.plot(portfolio_standard_deviations[index],portfolio_means[index],color=\"red\",marker=\"*\",markersize = 15)\n",
    "plt.show()"
   ]
  }
 ],
 "metadata": {
  "interpreter": {
   "hash": "41bd3fd7d9e964b2fad6aed94245c691d4191ccf8c3ec0630e831498010d969d"
  },
  "kernelspec": {
   "display_name": "Python 3.8.8 64-bit ('base': conda)",
   "name": "python3"
  },
  "language_info": {
   "codemirror_mode": {
    "name": "ipython",
    "version": 3
   },
   "file_extension": ".py",
   "mimetype": "text/x-python",
   "name": "python",
   "nbconvert_exporter": "python",
   "pygments_lexer": "ipython3",
   "version": "3.8.8"
  }
 },
 "nbformat": 4,
 "nbformat_minor": 4
}
